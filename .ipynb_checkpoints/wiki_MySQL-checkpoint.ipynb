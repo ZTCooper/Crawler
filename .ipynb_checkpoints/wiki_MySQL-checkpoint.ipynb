{
 "cells": [
  {
   "cell_type": "code",
   "execution_count": null,
   "metadata": {
    "collapsed": true
   },
   "outputs": [],
   "source": [
    "创建两张表储存页面和链接，两张表都带有创建时间和独立ID号\n",
    "\n",
    "mysql> create table `wiki`.`pages`(\n",
    "    -> `id` int not null auto_increment comment '自增id, 主键',\n",
    "    -> `url` verchar(255) not null,\n",
    "    -> `ceated` timestamp not null default current_timestamp,\n",
    "    -> primary key(`id`)\n",
    "    -> );\n",
    "    \n",
    "mysql> create table `wiki`.`links`(\n",
    "    -> `id` int not null auto_increment comment '自增id，主键',\n",
    "    -> `fromPageId` int null,\n",
    "    -> `toPageId` int null,\n",
    "    -> `created` timestamp not null default current_timestamp,\n",
    "    -> primary key(`id`)\n",
    "    -> );"
   ]
  }
 ],
 "metadata": {
  "kernelspec": {
   "display_name": "Python 3",
   "language": "python",
   "name": "python3"
  },
  "language_info": {
   "codemirror_mode": {
    "name": "ipython",
    "version": 3
   },
   "file_extension": ".py",
   "mimetype": "text/x-python",
   "name": "python",
   "nbconvert_exporter": "python",
   "pygments_lexer": "ipython3",
   "version": "3.6.1"
  }
 },
 "nbformat": 4,
 "nbformat_minor": 2
}
